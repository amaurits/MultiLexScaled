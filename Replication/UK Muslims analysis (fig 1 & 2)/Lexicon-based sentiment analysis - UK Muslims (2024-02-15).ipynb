{
 "cells": [
  {
   "cell_type": "markdown",
   "metadata": {},
   "source": [
    "# Lexicon-based sentiment analysis - UK Muslims (2024-02-15)\n",
    "\n",
    "_by A. Maurits van der Veen_  \n",
    "\n",
    "_Modification history:_  \n",
    "_2020-09-30 - Initial extraction from various application-specific notebooks_  \n",
    "_2020-10-08 - Compile into coherent notebook_  \n",
    "_2020-11-05 - Updates & cleaning_  \n",
    "_2020-11-09 - Updates for pathnames & saving visualizations_  \n",
    "_2020-11-20 - Updates for displaying (selections of) full rows_  \n",
    "_2024-02-15 - Minor updates & explanatory text for upload as part of replication data_  \n",
    "\n",
    "This file contains the code to do analyze the sentiment of the coverage of Muslims in the UK press, as reported in:\n",
    "\n",
    "`van der Veen, A. Maurits, and Erik Bleich. \"The advantages of lexicon-based sentiment analysis in an age of machine learning.\"`\n",
    "\n",
    "Specifically, it recreates figures 1 and 2 in that paper."
   ]
  },
  {
   "cell_type": "markdown",
   "metadata": {},
   "source": [
    "### 0. Set-up"
   ]
  },
  {
   "cell_type": "code",
   "execution_count": null,
   "metadata": {},
   "outputs": [],
   "source": [
    "projectfolder = '/Users/xxx/Replication/'\n"
   ]
  },
  {
   "cell_type": "code",
   "execution_count": null,
   "metadata": {},
   "outputs": [],
   "source": [
    "import sys\n",
    "# import os\n",
    "\n",
    "from datetime import datetime\n",
    "\n",
    "import pandas as pd\n",
    "import numpy as np\n",
    "import matplotlib\n",
    "import matplotlib.pyplot as plt\n",
    "\n",
    "# Print summary version info (for fuller info, simply print sys.version)\n",
    "print('You are using python version {}.'.format(sys.version.split()[0]))"
   ]
  },
  {
   "cell_type": "markdown",
   "metadata": {},
   "source": [
    "### 1. Load corpus\n"
   ]
  },
  {
   "cell_type": "code",
   "execution_count": null,
   "metadata": {},
   "outputs": [],
   "source": [
    "# Load into dataframes; make the index (the row-name) the ids (column 0)\n",
    "metadatafile = projectfolder + 'Muslims_meta.csv'\n",
    "valencefile = projectfolder + 'Muslims_vals_cal.csv'\n",
    "\n",
    "df = pd.read_csv(metadatafile)\n",
    "valencedf = pd.read_csv(valencefile)\n",
    "df = df.merge(valencedf, how='left', on='id')\n"
   ]
  },
  {
   "cell_type": "code",
   "execution_count": null,
   "metadata": {
    "scrolled": true
   },
   "outputs": [],
   "source": [
    "# Show a list of variables in the dataset\n",
    "list(df.columns)\n"
   ]
  },
  {
   "cell_type": "code",
   "execution_count": null,
   "metadata": {},
   "outputs": [],
   "source": [
    "# Check article quantities & definition of 'tabloid'\n",
    "\n",
    "pd.crosstab(df.Publication, df.tabloid, \n",
    "            margins=True, margins_name='Total')\n"
   ]
  },
  {
   "cell_type": "markdown",
   "metadata": {},
   "source": [
    "### 2. Prepare data for plotting\n"
   ]
  },
  {
   "cell_type": "code",
   "execution_count": null,
   "metadata": {},
   "outputs": [],
   "source": [
    "# Convert to internal date format\n",
    "df['Date'] = pd.to_datetime(df['Date'])"
   ]
  },
  {
   "cell_type": "code",
   "execution_count": null,
   "metadata": {},
   "outputs": [],
   "source": [
    "# Binarize valence\n",
    "df['avg_valence_bin'] = np.where(df['avg_valence'] < 0, -1, 1)"
   ]
  },
  {
   "cell_type": "code",
   "execution_count": null,
   "metadata": {},
   "outputs": [],
   "source": [
    "# String variables cannot be aggregated => drop\n",
    "stringvars = ['corpusid', 'Publication', 'Day of week']"
   ]
  },
  {
   "cell_type": "code",
   "execution_count": null,
   "metadata": {},
   "outputs": [],
   "source": [
    "# Reduce to monthly averages: group by month, then take means and add a count column\n",
    "\n",
    "# Group by month\n",
    "df_bymonth = df.drop(stringvars, axis=1).set_index('Date').groupby(pd.Grouper(freq='M'))\n",
    "\n",
    "# Collapse by taking averages and adding a count variable indicating number of articles that month\n",
    "df_bymonthX = df_bymonth.aggregate(np.mean).reset_index().join(df_bymonth.size().reset_index(name='nrarticles').drop('Date', axis=1))\n",
    "df_bymonthX = df_bymonthX.set_index('Date')"
   ]
  },
  {
   "cell_type": "code",
   "execution_count": null,
   "metadata": {},
   "outputs": [],
   "source": [
    "# 5-month exponential moving average\n",
    "df_bymonth_ewm5  = df_bymonthX.ewm(span=5, adjust=False).mean()\n"
   ]
  },
  {
   "cell_type": "markdown",
   "metadata": {},
   "source": [
    "### 3. Generate charts\n"
   ]
  },
  {
   "cell_type": "code",
   "execution_count": null,
   "metadata": {},
   "outputs": [],
   "source": [
    "# Set typeface and default size\n",
    "font = {'family' : 'Times New Roman',\n",
    "        'size'   : 16}\n",
    "\n",
    "matplotlib.rc('font', **font)"
   ]
  },
  {
   "cell_type": "code",
   "execution_count": null,
   "metadata": {},
   "outputs": [],
   "source": [
    "# Figure 1: Decade surrounding 9/11, average monthly valence, comparing binarized vs. fine-grained valence measures\n",
    "\n",
    "# Specify date range\n",
    "start_date = '1996-01-01'\n",
    "end_date = '2006-12-31'\n",
    "nrdays = (pd.to_datetime(end_date) - pd.to_datetime(start_date)) / pd.offsets.Day(1)\n",
    "\n",
    "nrdays *= 1.1  # add for left-right margin of graph\n",
    "days2add = nrdays * 0.05  # to skip left-hand margin\n",
    "\n",
    "# Initialize figure\n",
    "fig, ax = plt.subplots(figsize=(15,9))\n",
    "\n",
    "# Specify dataframe to use\n",
    "df2use = df_bymonth_ewm5  \n",
    "\n",
    "# Plot average valence, original and binarized\n",
    "ax.plot(df2use.loc[start_date:end_date, :].index, \n",
    "        df2use.loc[start_date:end_date, 'avg_valence_bin'], color='C0', lw=1,  label = 'Binary valence')\n",
    "ax.plot(df2use.loc[start_date:end_date, :].index, \n",
    "        df2use.loc[start_date:end_date, 'avg_valence'], color='C1', lw=1,  label = 'Valence')\n",
    "\n",
    "\n",
    "# Add short horizontal lines for mean values during particular period (note: don't use geometric weighted avg. here!!)\n",
    "\n",
    "sections = [('2001-10-01', '2001-12-31'),\n",
    "            ('2002-01-01', '2002-12-31')]\n",
    "\n",
    "for sectionstart, sectionend in sections:    \n",
    "    meanval = df_bymonthX.loc[sectionstart:sectionend, 'avg_valence'].mean()\n",
    "    ax.hlines(meanval, pd.to_datetime(sectionstart), pd.to_datetime(sectionend), color='C1', lw=3)\n",
    "    meanval = df_bymonthX.loc[sectionstart:sectionend, 'avg_valence_bin'].mean()\n",
    "    ax.hlines(meanval, pd.to_datetime(sectionstart), pd.to_datetime(sectionend), color='C0', lw=3)\n",
    "    \n",
    "# Add vertical lines at key events (Sep. 11)\n",
    "\n",
    "eventcol = 'gray'\n",
    "eventstyle = 'dashed'\n",
    "\n",
    "x_bounds = ax.get_xlim()\n",
    "xposition = [(pd.to_datetime('2001-09-01'), '  9/11/2001', eventcol, eventstyle, '1'),\n",
    "             # (pd.to_datetime('2005-07-07'), '  7/7/2005', eventcol, eventstyle, '1'),\n",
    "            ]\n",
    "for xc, event, linecolor, style, width in xposition:\n",
    "    ax.axvline(x=xc, color=linecolor, linestyle=style, lw=width)\n",
    "    nrdays_elapsed = (xc - pd.to_datetime(start_date)) / pd.offsets.Day(1)\n",
    "    ax.annotate(text=event, xy =(((nrdays_elapsed+days2add)/nrdays),0.99), xycoords='axes fraction', verticalalignment='top', horizontalalignment='center' , rotation = 270)\n",
    "\n",
    "# Label y axis\n",
    "ax.set_ylabel('Article valence', fontsize='large')\n",
    "\n",
    "# Add axis & legend info\n",
    "\n",
    "# Legend data for plotted line(s)\n",
    "handles, labels = ax.get_legend_handles_labels()\n",
    "# Add text legend\n",
    "handles.append(matplotlib.lines.Line2D([0], [0], color='gray', lw=0, label='(Horizontal lines are multi-month averages)')) \n",
    "\n",
    "# Update the legend\n",
    "plt.legend(handles=handles, loc='center right', fontsize='large')\n",
    "\n",
    "# Save and display\n",
    "plt.tight_layout()\n",
    "plt.savefig(projectfolder + \"Fig1-test.pdf\", bbox_inches=\"tight\", dpi=300)\n",
    "plt.show()\n"
   ]
  },
  {
   "cell_type": "code",
   "execution_count": null,
   "metadata": {},
   "outputs": [],
   "source": [
    "# Figure 2: Valences for entire period, distinguishing tabloids and broadsheets\n",
    "\n",
    "# Specify dataframe to use\n",
    "df2use = df_bymonth_ewm5\n",
    "\n",
    "# Specify date range\n",
    "start_date = '1996-05-01'\n",
    "end_date = '2016-12-31'\n",
    "nrdays = (pd.to_datetime(end_date) - pd.to_datetime(start_date)) / pd.offsets.Day(1)\n",
    "\n",
    "nrdays *= 1.1  # add for left-right margin of graph\n",
    "days2add = nrdays * 0.05  # to skip left-hand margin\n",
    "\n",
    "# Initialize figure\n",
    "fig, ax = plt.subplots(figsize=(15,9))\n",
    "\n",
    "# To plot sub-sections of the corpus, we need to split those out first,\n",
    "# and then repeat the aggregation and averaging steps to get a comparable subcorpus to plot.\n",
    "targetvariable = 'tabloid'\n",
    "targetvalues = (0, 1)\n",
    "targetlabels = ('Broadsheet', 'Tabloid')\n",
    "targetcolors = ('C0', 'C1')\n",
    "\n",
    "for val, subcorpus in df.groupby(targetvariable):\n",
    "    if val in targetvalues:  # Use & plot this sub-corpus\n",
    "        subcorpus_bymonth = subcorpus.drop(stringvars, axis=1).set_index('Date').groupby(pd.Grouper(freq='M'))\n",
    "\n",
    "        # Collapse by taking averages and adding a count variable indicating number of articles that month\n",
    "        subcorpus_bymonthX = subcorpus_bymonth.aggregate(np.mean).reset_index().join(subcorpus_bymonth.size().reset_index(name='nrarticles').drop('Date', axis=1))\n",
    "        subcorpus_bymonthX = subcorpus_bymonthX.set_index('Date')\n",
    "        # Generate exponential moving average (make sure to use same span as for full corpus!)\n",
    "        subcorpus_bymonth_ewm5  = subcorpus_bymonthX.ewm(span=5, adjust=False).mean()\n",
    "\n",
    "        # Now plot the lines for this subcorpus (as distinct from full corpus)\n",
    "        ax.plot(subcorpus_bymonth_ewm5.loc[start_date:end_date, :].index, \n",
    "                subcorpus_bymonth_ewm5.loc[start_date:end_date, 'avg_valence'], \n",
    "                color = targetcolors[val],\n",
    "                lw = 3,\n",
    "                label = '{} valence'.format(targetlabels[val]))\n",
    "        ax.plot(subcorpus_bymonth_ewm5.loc[start_date:end_date, :].index, \n",
    "                subcorpus_bymonth_ewm5.loc[start_date:end_date, 'avg_valence_bin'], \n",
    "                color = targetcolors[val],\n",
    "                lw = 2, linestyle = 'dashed',\n",
    "                label = '_nolegend_' # {} binary valence'.format(targetlabels[val])\n",
    "               )\n",
    "    \n",
    "# Add vertical lines at key events (Sep. 11)\n",
    "eventcol = 'gray'\n",
    "eventstyle = 'dashed'\n",
    "\n",
    "x_bounds = ax.get_xlim()\n",
    "xposition = [(pd.to_datetime('2001-09-01'), '  9/11/2001', eventcol, eventstyle, '1'),\n",
    "             # (pd.to_datetime('2005-07-07'), '  7/7/2005', eventcol, eventstyle, '1'),\n",
    "            ]\n",
    "for xc, event, linecolor, style, width in xposition:\n",
    "    ax.axvline(x=xc, color=linecolor, linestyle=style, lw=width)\n",
    "    nrdays_elapsed = (xc - pd.to_datetime(start_date)) / pd.offsets.Day(1)\n",
    "    ax.annotate(text=event, xy =(((nrdays_elapsed+days2add)/nrdays),0.99), xycoords='axes fraction', verticalalignment='top', horizontalalignment='center' , rotation = 270)\n",
    "\n",
    "# Label y axis \n",
    "ax.set_ylabel('Article valence', fontsize='large')\n",
    "\n",
    "# Add axis & legend info\n",
    "\n",
    "# Legend data for plotted line(s)\n",
    "handles, labels = ax.get_legend_handles_labels()\n",
    "\n",
    "# Add text legend\n",
    "handles.append(matplotlib.lines.Line2D([0], [0], color='gray', lw=0, label='(Dashed lines are binarized valence)')) \n",
    "\n",
    "# Update the legend\n",
    "plt.legend(handles=handles, loc='upper right', fontsize='large')\n",
    "\n",
    "# Save & display\n",
    "plt.tight_layout()\n",
    "plt.savefig(projectfolder + \"Fig2-test.pdf\", bbox_inches=\"tight\", dpi=300)\n",
    "plt.show()\n",
    "\n"
   ]
  },
  {
   "cell_type": "code",
   "execution_count": null,
   "metadata": {},
   "outputs": [],
   "source": []
  }
 ],
 "metadata": {
  "kernelspec": {
   "display_name": "Python 3 (ipykernel)",
   "language": "python",
   "name": "python3"
  },
  "language_info": {
   "codemirror_mode": {
    "name": "ipython",
    "version": 3
   },
   "file_extension": ".py",
   "mimetype": "text/x-python",
   "name": "python",
   "nbconvert_exporter": "python",
   "pygments_lexer": "ipython3",
   "version": "3.10.12"
  }
 },
 "nbformat": 4,
 "nbformat_minor": 4
}
